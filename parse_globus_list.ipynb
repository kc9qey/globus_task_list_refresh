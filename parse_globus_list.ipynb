{
 "cells": [
  {
   "cell_type": "code",
   "execution_count": 1,
   "metadata": {
    "collapsed": false
   },
   "outputs": [],
   "source": [
    "import json\n",
    "import sys\n",
    "import globus_sdk\n",
    "\n",
    "jsonFile = \"globus_task_list.json\""
   ]
  },
  {
   "cell_type": "code",
   "execution_count": 2,
   "metadata": {
    "collapsed": false
   },
   "outputs": [
    {
     "name": "stdout",
     "output_type": "stream",
     "text": [
      "Please go to this URL and login: https://auth.globus.org/v2/oauth2/authorize?client_id=2826c2c1-2bdf-4ea4-8f3a-d25487ad9c4c&redirect_uri=https%3A%2F%2Fauth.globus.org%2Fv2%2Fweb%2Fauth-code&scope=openid+profile+email+urn%3Aglobus%3Aauth%3Ascope%3Atransfer.api.globus.org%3Aall&state=_default&response_type=code&code_challenge=RUWEmxDlSqiWEetErmWs85EvtUaM9pKarfqw3HeYkkg%3D&code_challenge_method=S256&access_type=online\n",
      "Please enter the code you get after login here: PBtRaxeWivA1oucrlpvQVOTjgvt2Zg\n"
     ]
    }
   ],
   "source": [
    "CLIENT_ID='2826c2c1-2bdf-4ea4-8f3a-d25487ad9c4c'\n",
    "client = globus_sdk.NativeAppAuthClient(CLIENT_ID)\n",
    "client.oauth2_start_flow_native_app()\n",
    "\n",
    "authorize_url = client.oauth2_get_authorize_url()\n",
    "print('Please go to this URL and login: {0}'.format(authorize_url))\n",
    "\n",
    "# this is to work on Python2 and Python3 -- you can just use raw_input() or\n",
    "# input() for your specific version\n",
    "get_input = getattr(__builtins__, 'raw_input', input)\n",
    "auth_code = get_input(\n",
    "    'Please enter the code you get after login here: ').strip()\n",
    "token_response = client.oauth2_exchange_code_for_tokens(auth_code)\n",
    "\n",
    "globus_auth_data = token_response.by_resource_server['auth.globus.org']\n",
    "globus_transfer_data = token_response.by_resource_server['transfer.api.globus.org']\n",
    "\n",
    "# most specifically, you want these tokens as strings\n",
    "AUTH_TOKEN = globus_auth_data['access_token']\n",
    "TRANSFER_TOKEN = globus_transfer_data['access_token']"
   ]
  },
  {
   "cell_type": "code",
   "execution_count": 3,
   "metadata": {
    "collapsed": false
   },
   "outputs": [
    {
     "name": "stdout",
     "output_type": "stream",
     "text": [
      "My Endpoints:\n",
      "[5cd8da92-d68a-11e6-9ccd-22000a1e3b52] galen testshare on ncsa#Nearline\n",
      "[d413b154-8db0-11e6-b054-22000b92c261] macbook at home\n",
      "[cbfb1a23-6d04-11e5-ba46-22000b92c6ec] None\n",
      "[d1763ade-6d04-11e5-ba46-22000b92c6ec] None\n",
      "[cbfb19f5-6d04-11e5-ba46-22000b92c6ec] None\n",
      "[c1cf11eb-6d04-11e5-ba46-22000b92c6ec] None\n",
      "[9459c985-6d04-11e5-ba46-22000b92c6ec] None\n",
      "[c00a495d-6d04-11e5-ba46-22000b92c6ec] None\n",
      "[cabacc80-6d04-11e5-ba46-22000b92c6ec] None\n",
      "[79f0f457-6d04-11e5-ba46-22000b92c6ec] None\n",
      "[82d9c1ea-6d04-11e5-ba46-22000b92c6ec] None\n",
      "[e26200a2-6d04-11e5-ba46-22000b92c6ec] None\n",
      "[ce71c6f2-6d04-11e5-ba46-22000b92c6ec] None\n",
      "[cbfb1a08-6d04-11e5-ba46-22000b92c6ec] None\n",
      "[74b5c063-6d04-11e5-ba46-22000b92c6ec] None\n",
      "[78c782b7-6d04-11e5-ba46-22000b92c6ec] None\n",
      "[7bb92a0d-6d04-11e5-ba46-22000b92c6ec] None\n",
      "[a4fcc57c-6d04-11e5-ba46-22000b92c6ec] None\n",
      "[777b99be-6d04-11e5-ba46-22000b92c6ec] None\n",
      "[db57dd3a-6d04-11e5-ba46-22000b92c6ec] None\n",
      "[b9d021ce-6d04-11e5-ba46-22000b92c6ec] None\n",
      "[cb63d7e8-6d04-11e5-ba46-22000b92c6ec] None\n"
     ]
    }
   ],
   "source": [
    "# a GlobusAuthorizer is an auxiliary object we use to wrap the token. In\n",
    "# more advanced scenarios, other types of GlobusAuthorizers give us\n",
    "# expressive power\n",
    "authorizer = globus_sdk.AccessTokenAuthorizer(TRANSFER_TOKEN)\n",
    "tc = globus_sdk.TransferClient(authorizer=authorizer)\n",
    "\n",
    "# high level interface; provides iterators for list responses\n",
    "print(\"My Endpoints:\")\n",
    "for ep in tc.endpoint_search(filter_scope=\"my-endpoints\"):\n",
    "    print(\"[{}] {}\".format(ep[\"id\"], ep[\"display_name\"]))"
   ]
  },
  {
   "cell_type": "code",
   "execution_count": 2,
   "metadata": {
    "collapsed": false
   },
   "outputs": [],
   "source": [
    "f= open(jsonFile)\n",
    "data= json.load(f)\n"
   ]
  },
  {
   "cell_type": "code",
   "execution_count": 4,
   "metadata": {
    "collapsed": false
   },
   "outputs": [
    {
     "name": "stdout",
     "output_type": "stream",
     "text": [
      "My Last 25 Tasks:\n",
      "83f1c9fa-f9d4-11e6-ba9e-22000b9a448b TRANSFER SUCCEEDED\n",
      "41978644-f9d4-11e6-ba9e-22000b9a448b TRANSFER SUCCEEDED\n",
      "9f5467a2-e192-11e6-9d3a-22000a1e3b52 TRANSFER SUCCEEDED\n",
      "de2554aa-e183-11e6-9d39-22000a1e3b52 TRANSFER SUCCEEDED\n",
      "d60dd918-e183-11e6-9d39-22000a1e3b52 TRANSFER SUCCEEDED\n",
      "d1462764-e183-11e6-9d39-22000a1e3b52 TRANSFER SUCCEEDED\n",
      "9a5f8900-de56-11e6-9d15-22000a1e3b52 TRANSFER SUCCEEDED\n",
      "f159b708-ddb8-11e6-9d11-22000a1e3b52 TRANSFER SUCCEEDED\n",
      "ef7d4bb4-ddb8-11e6-9d11-22000a1e3b52 DELETE SUCCEEDED\n",
      "cb677422-ddb6-11e6-9d11-22000a1e3b52 TRANSFER SUCCEEDED\n",
      "95d64cee-d68a-11e6-9ccd-22000a1e3b52 DELETE SUCCEEDED\n",
      "d40abdd4-d689-11e6-9ccd-22000a1e3b52 DELETE SUCCEEDED\n",
      "be946b4e-ad08-11e6-9af4-22000a1e3b52 TRANSFER SUCCEEDED\n",
      "f60ae604-a5db-11e6-9ace-22000a1e3b52 TRANSFER SUCCEEDED\n",
      "bf355276-a5cd-11e6-9ace-22000a1e3b52 TRANSFER SUCCEEDED\n",
      "083c3ee8-a5ca-11e6-9ace-22000a1e3b52 TRANSFER SUCCEEDED\n",
      "89020e40-9b8e-11e6-b0c6-22000b92c261 TRANSFER SUCCEEDED\n",
      "72246e74-9b8a-11e6-b0c6-22000b92c261 TRANSFER SUCCEEDED\n",
      "667f6c18-9b8a-11e6-b0c6-22000b92c261 TRANSFER SUCCEEDED\n",
      "2c4eb766-9b89-11e6-b0c6-22000b92c261 TRANSFER SUCCEEDED\n",
      "3d70e2aa-8db3-11e6-b054-22000b92c261 DELETE SUCCEEDED\n",
      "d29d3b72-8db2-11e6-b054-22000b92c261 TRANSFER FAILED\n",
      "f6d720ea-8db0-11e6-b054-22000b92c261 TRANSFER SUCCEEDED\n",
      "c8a38516-8bca-11e6-b047-22000b92c261 TRANSFER SUCCEEDED\n",
      "4393f9ec-79db-11e6-8436-22000b97daec TRANSFER SUCCEEDED\n"
     ]
    }
   ],
   "source": [
    "print(\"My Last 25 Tasks:\")\n",
    "# `filter` to get Delete Tasks (default is just Transfer Tasks)\n",
    "for task in tc.task_list(num_results=25, filter=\"type:TRANSFER,DELETE\"):\n",
    "    print(task[\"task_id\"], task[\"type\"], task[\"status\"])\n"
   ]
  },
  {
   "cell_type": "code",
   "execution_count": 11,
   "metadata": {
    "collapsed": false,
    "scrolled": true
   },
   "outputs": [
    {
     "name": "stdout",
     "output_type": "stream",
     "text": [
      "=================================================================\n",
      "task_id= ( 83f1c9fa-f9d4-11e6-ba9e-22000b9a448b ) ncsa#BlueWaters -> ncsa#jyc\n",
      "request_time 2017-02-23 14:29:43+00:00\n",
      "completed    2017-02-23 14:29:50+00:00\n",
      "type=TRANSFER Mbytes=12219.0 Mbytes/s=1624.0\n",
      "=================================================================\n",
      "task_id= ( 41978644-f9d4-11e6-ba9e-22000b9a448b ) ncsa#BlueWaters -> ncsa#jyc\n",
      "request_time 2017-02-23 14:27:51+00:00\n",
      "completed    2017-02-23 14:27:59+00:00\n",
      "type=TRANSFER Mbytes=12219.0 Mbytes/s=1585.8\n",
      "=================================================================\n",
      "task_id= ( 9f5467a2-e192-11e6-9d3a-22000a1e3b52 ) arnoldg#macos -> ncsa#BlueWaters\n",
      "request_time 2017-01-23 17:37:34+00:00\n",
      "completed    2017-01-23 17:37:38+00:00\n",
      "type=TRANSFER Mbytes=87478.0 Mbytes/s=19728.2\n",
      "=================================================================\n",
      "task_id= ( de2554aa-e183-11e6-9d39-22000a1e3b52 ) ncsa#jyc -> ncsa#BlueWaters\n",
      "request_time 2017-01-23 15:51:57+00:00\n",
      "completed    2017-01-23 15:52:01+00:00\n",
      "type=TRANSFER Mbytes=1.0 Mbytes/s=0.2\n",
      "=================================================================\n",
      "task_id= ( d60dd918-e183-11e6-9d39-22000a1e3b52 ) ncsa#jyc -> ncsa#BlueWaters\n",
      "request_time 2017-01-23 15:51:43+00:00\n",
      "completed    2017-01-23 15:51:47+00:00\n",
      "type=TRANSFER Mbytes=2.4 Mbytes/s=0.7\n",
      "=================================================================\n",
      "task_id= ( d1462764-e183-11e6-9d39-22000a1e3b52 ) ncsa#jyc -> ncsa#BlueWaters\n",
      "request_time 2017-01-23 15:51:35+00:00\n",
      "completed    2017-01-23 15:51:41+00:00\n",
      "type=TRANSFER Mbytes=1.0 Mbytes/s=0.2\n",
      "=================================================================\n",
      "task_id= ( 9a5f8900-de56-11e6-9d15-22000a1e3b52 ) BW SPP Benchmarks -> ncsa#BlueWaters\n",
      "request_time 2017-01-19 14:50:22+00:00\n",
      "completed    2017-01-19 15:17:31+00:00\n",
      "type=TRANSFER Mbytes=283330443.5 Mbytes/s=173955.4\n",
      "=================================================================\n",
      "task_id= ( f159b708-ddb8-11e6-9d11-22000a1e3b52 ) ncsa#jyc -> ncsa#BlueWaters\n",
      "request_time 2017-01-18 20:01:49+00:00\n",
      "completed    2017-01-18 20:01:53+00:00\n",
      "type=TRANSFER Mbytes=63727.4 Mbytes/s=14754.6\n",
      "=================================================================\n",
      "task_id= ( ef7d4bb4-ddb8-11e6-9d11-22000a1e3b52 ) ncsa#BlueWaters -> None\n",
      "request_time 2017-01-18 20:01:44+00:00\n",
      "completed    2017-01-18 20:01:46+00:00\n",
      "type=DELETE Mbytes=0.0 Mbytes/s=0.0\n",
      "=================================================================\n",
      "task_id= ( cb677422-ddb6-11e6-9d11-22000a1e3b52 ) ncsa#BlueWaters -> ncsa#jyc\n",
      "request_time 2017-01-18 19:46:25+00:00\n",
      "completed    2017-01-18 19:46:31+00:00\n",
      "type=TRANSFER Mbytes=24277.9 Mbytes/s=4241.8\n"
     ]
    }
   ],
   "source": [
    "for transfer in data['DATA']:\n",
    "#for transfer in tc.task_list(num_results=5):\n",
    "    print(\"=================================================================\")\n",
    "    print(\"task_id= ( %s ) %s -> %s\" % (transfer['task_id'],transfer['source_endpoint_display_name'],transfer['destination_endpoint_display_name']))\n",
    "    print(\"request_time %s\" % transfer['request_time'])\n",
    "    print(\"completed    %s\" % transfer['completion_time'])\n",
    "    print(\"type=%s Mbytes=%.1f Mbytes/s=%.1f\" % (transfer['type'],transfer['bytes_transferred']/1024,transfer['effective_bytes_per_second']/1024))"
   ]
  },
  {
   "cell_type": "code",
   "execution_count": null,
   "metadata": {
    "collapsed": true
   },
   "outputs": [],
   "source": []
  }
 ],
 "metadata": {
  "kernelspec": {
   "display_name": "Python 3",
   "language": "python",
   "name": "python3"
  },
  "language_info": {
   "codemirror_mode": {
    "name": "ipython",
    "version": 3
   },
   "file_extension": ".py",
   "mimetype": "text/x-python",
   "name": "python",
   "nbconvert_exporter": "python",
   "pygments_lexer": "ipython3",
   "version": "3.6.0"
  }
 },
 "nbformat": 4,
 "nbformat_minor": 2
}
