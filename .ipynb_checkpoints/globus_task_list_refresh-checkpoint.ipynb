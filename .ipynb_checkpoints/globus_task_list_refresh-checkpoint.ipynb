{
 "cells": [
  {
   "cell_type": "code",
   "execution_count": 2,
   "metadata": {
    "collapsed": false
   },
   "outputs": [],
   "source": [
    "#!/usr/bin/env python3\n",
    "\"\"\"\n",
    "monitor your last 5 GO task_id's\n",
    "\n",
    "Based on tutorial and documentation at:\n",
    "   http://globus.github.io/globus-sdk-python/index.html\n",
    "\n",
    "-Galen Arnold, 2017, NCSA\n",
    "\"\"\"\n",
    "\n",
    "import time\n",
    "import globus_sdk\n",
    "\n",
    "def my_authentication():\n",
    "    \"\"\"authentication routine\"\"\"\n",
    "    client_id = '2826c2c1-2bdf-4ea4-8f3a-d25487ad9c4c'\n",
    "    client = globus_sdk.NativeAppAuthClient(client_id)\n",
    "    client.oauth2_start_flow_native_app(refresh_tokens=True)\n",
    "\n",
    "    authorize_url = client.oauth2_get_authorize_url()\n",
    "    print('Please go to this URL and login: {0}'.format(authorize_url))\n",
    "\n",
    "    # this is to work on Python2 and Python3 -- you can just use raw_input() or\n",
    "    # input() for your specific version\n",
    "    get_input = getattr(__builtins__, 'raw_input', input)\n",
    "    auth_code = get_input('Please enter the code you get after login here: ').strip()\n",
    "    token_response = client.oauth2_exchange_code_for_tokens(auth_code)\n",
    "    globus_auth_data = token_response.by_resource_server['auth.globus.org']\n",
    "    print(\"%s\\n\" % (globus_auth_data))\n",
    "    return token_response, client\n",
    "# end def my_authentication\n"
   ]
  },
  {
   "cell_type": "code",
   "execution_count": 3,
   "metadata": {
    "collapsed": true
   },
   "outputs": [],
   "source": [
    "def my_task_list(token_response, client):\n",
    "    \"\"\" gather a recent task list\"\"\"\n",
    "    globus_transfer_data = token_response.by_resource_server['transfer.api.globus.org']\n",
    "    # the refresh token and access token, often abbr. as RT and AT\n",
    "    transfer_rt = globus_transfer_data['refresh_token']\n",
    "    transfer_at = globus_transfer_data['access_token']\n",
    "    expires_at_s = globus_transfer_data['expires_at_seconds']\n",
    "\n",
    "    # a GlobusAuthorizer is an auxiliary object we use to wrap the token. In\n",
    "    # more advanced scenarios, other types of GlobusAuthorizers give us\n",
    "    # expressive power\n",
    "\n",
    "    authorizer = globus_sdk.RefreshTokenAuthorizer(\n",
    "        transfer_rt, client, access_token=transfer_at, expires_at=expires_at_s)\n",
    "\n",
    "    tclient = globus_sdk.TransferClient(authorizer=authorizer)\n",
    "\n",
    "    for transfer in tclient.task_list(num_results=5):\n",
    "        print(\"task_id= ( %s ) %s -> %s\"\n",
    "              % (transfer['task_id'],\n",
    "                 transfer['source_endpoint_display_name'],\n",
    "                 transfer['destination_endpoint_display_name']))\n",
    "        print(\"request_time %s\" % transfer['request_time'])\n",
    "        print(\"completed    %s\" % transfer['completion_time'])\n",
    "        print(\"type=%s Mbytes=%.1f Mbytes/s=%.1f\"\n",
    "              % (transfer['type'],\n",
    "                 transfer['bytes_transferred']/1024,\n",
    "                 transfer['effective_bytes_per_second']/1024))\n",
    "        print(\"=====================================================\")\n",
    "\n",
    "    print(\"______________________________________________________________________________\")\n",
    "    time.sleep(30)\n",
    "# end def my_task_list"
   ]
  },
  {
   "cell_type": "code",
   "execution_count": 4,
   "metadata": {
    "collapsed": false
   },
   "outputs": [
    {
     "name": "stdout",
     "output_type": "stream",
     "text": [
      "Please go to this URL and login: https://auth.globus.org/v2/oauth2/authorize?client_id=2826c2c1-2bdf-4ea4-8f3a-d25487ad9c4c&redirect_uri=https%3A%2F%2Fauth.globus.org%2Fv2%2Fweb%2Fauth-code&scope=openid+profile+email+urn%3Aglobus%3Aauth%3Ascope%3Atransfer.api.globus.org%3Aall&state=_default&response_type=code&code_challenge=Yt0Tutwm25ki0PDEhX3_oKCxj1Twn-8XNSF9v4QXcyU%3D&code_challenge_method=S256&access_type=offline\n",
      "Please enter the code you get after login here: nFTtVlESW7kW4VEsc46wNKl2EctarK\n",
      "{'scope': 'openid email profile', 'access_token': 'AQBY1CZ5AAAAAAAEmYw6F-cIMHZ-OTN9nFmpqJUr1fFsiTj8JrxjS2z1HMZWtOAgQsHzoOvcMdMQIn5T1tSx', 'refresh_token': 'AQEAAAAAAASZjI8S6jyis-9AAMGsp9p_wHCWFgWRugcoilVwaj4h1EA3cKa-ZGhGJO2Ep7SjgGs57R81bkaT', 'token_type': 'Bearer', 'expires_at_seconds': 1490298490}\n",
      "\n",
      "task_id= ( 13295514-0d9b-11e7-bb38-22000b9a448b ) arnoldg#macos -> ncsa#jyc\n",
      "request_time 2017-03-20 18:28:55+00:00\n",
      "completed    2017-03-20 18:28:59+00:00\n",
      "type=TRANSFER Mbytes=122.4 Mbytes/s=31.9\n",
      "=====================================================\n",
      "task_id= ( 0369c2da-0d9b-11e7-bb38-22000b9a448b ) arnoldg#macos -> ncsa#jyc\n",
      "request_time 2017-03-20 18:28:29+00:00\n",
      "completed    2017-03-20 18:28:33+00:00\n",
      "type=TRANSFER Mbytes=2569.4 Mbytes/s=633.2\n",
      "=====================================================\n",
      "task_id= ( 645c03e6-0d96-11e7-bb38-22000b9a448b ) arnoldg#macos -> ncsa#jyc\n",
      "request_time 2017-03-20 17:55:24+00:00\n",
      "completed    2017-03-20 17:55:31+00:00\n",
      "type=TRANSFER Mbytes=175080.7 Mbytes/s=23871.4\n",
      "=====================================================\n",
      "task_id= ( 7215e9a4-05c9-11e7-bb09-22000b9a448b ) ncsa#BlueWaters -> ncsa#jyc\n",
      "request_time 2017-03-10 19:40:42+00:00\n",
      "completed    2017-03-10 19:40:49+00:00\n",
      "type=TRANSFER Mbytes=3.0 Mbytes/s=0.4\n",
      "=====================================================\n",
      "task_id= ( e714a6ac-05ae-11e7-bb08-22000b9a448b ) ncsa#BlueWaters -> None\n",
      "request_time 2017-03-10 16:30:42+00:00\n",
      "completed    2017-03-10 16:30:49+00:00\n",
      "type=DELETE Mbytes=0.0 Mbytes/s=0.0\n",
      "=====================================================\n",
      "______________________________________________________________________________\n"
     ]
    },
    {
     "ename": "KeyboardInterrupt",
     "evalue": "",
     "output_type": "error",
     "traceback": [
      "\u001b[0;31m---------------------------------------------------------------------------\u001b[0m",
      "\u001b[0;31mKeyboardInterrupt\u001b[0m                         Traceback (most recent call last)",
      "\u001b[0;32m<ipython-input-4-bb1b849049a2>\u001b[0m in \u001b[0;36m<module>\u001b[0;34m()\u001b[0m\n\u001b[1;32m      1\u001b[0m \u001b[0mmy_token_response\u001b[0m\u001b[0;34m,\u001b[0m \u001b[0mmy_client\u001b[0m \u001b[0;34m=\u001b[0m \u001b[0mmy_authentication\u001b[0m\u001b[0;34m(\u001b[0m\u001b[0;34m)\u001b[0m\u001b[0;34m\u001b[0m\u001b[0m\n\u001b[1;32m      2\u001b[0m \u001b[0;32mwhile\u001b[0m \u001b[0;32mTrue\u001b[0m\u001b[0;34m:\u001b[0m\u001b[0;34m\u001b[0m\u001b[0m\n\u001b[0;32m----> 3\u001b[0;31m     \u001b[0mmy_task_list\u001b[0m\u001b[0;34m(\u001b[0m\u001b[0mmy_token_response\u001b[0m\u001b[0;34m,\u001b[0m \u001b[0mmy_client\u001b[0m\u001b[0;34m)\u001b[0m\u001b[0;34m\u001b[0m\u001b[0m\n\u001b[0m\u001b[1;32m      4\u001b[0m \u001b[0;31m# end while\u001b[0m\u001b[0;34m\u001b[0m\u001b[0;34m\u001b[0m\u001b[0m\n",
      "\u001b[0;32m<ipython-input-3-bb6c61c4ff0f>\u001b[0m in \u001b[0;36mmy_task_list\u001b[0;34m(token_response, client)\u001b[0m\n\u001b[1;32m     30\u001b[0m \u001b[0;34m\u001b[0m\u001b[0m\n\u001b[1;32m     31\u001b[0m     \u001b[0mprint\u001b[0m\u001b[0;34m(\u001b[0m\u001b[0;34m\"______________________________________________________________________________\"\u001b[0m\u001b[0;34m)\u001b[0m\u001b[0;34m\u001b[0m\u001b[0m\n\u001b[0;32m---> 32\u001b[0;31m     \u001b[0mtime\u001b[0m\u001b[0;34m.\u001b[0m\u001b[0msleep\u001b[0m\u001b[0;34m(\u001b[0m\u001b[0;36m30\u001b[0m\u001b[0;34m)\u001b[0m\u001b[0;34m\u001b[0m\u001b[0m\n\u001b[0m\u001b[1;32m     33\u001b[0m \u001b[0;31m# end def my_task_list\u001b[0m\u001b[0;34m\u001b[0m\u001b[0;34m\u001b[0m\u001b[0m\n",
      "\u001b[0;31mKeyboardInterrupt\u001b[0m: "
     ]
    }
   ],
   "source": [
    "my_token_response, my_client = my_authentication()\n",
    "while True:\n",
    "    my_task_list(my_token_response, my_client)\n",
    "# end while"
   ]
  },
  {
   "cell_type": "code",
   "execution_count": null,
   "metadata": {
    "collapsed": true
   },
   "outputs": [],
   "source": []
  }
 ],
 "metadata": {
  "kernelspec": {
   "display_name": "Python 3",
   "language": "python",
   "name": "python3"
  },
  "language_info": {
   "codemirror_mode": {
    "name": "ipython",
    "version": 3
   },
   "file_extension": ".py",
   "mimetype": "text/x-python",
   "name": "python",
   "nbconvert_exporter": "python",
   "pygments_lexer": "ipython3",
   "version": "3.6.0"
  }
 },
 "nbformat": 4,
 "nbformat_minor": 2
}
